{
  "nbformat": 4,
  "nbformat_minor": 0,
  "metadata": {
    "colab": {
      "name": "Copy of Copy of Music recommendation system",
      "provenance": [],
      "toc_visible": true
    },
    "kernelspec": {
      "name": "python3",
      "display_name": "Python 3"
    },
    "language_info": {
      "name": "python"
    }
  },
  "cells": [
    {
      "cell_type": "code",
      "metadata": {
        "colab": {
          "base_uri": "https://localhost:8080/"
        },
        "id": "myViX3q5orFd",
        "outputId": "c7b957ce-8208-4768-d560-954d3c480f0f"
      },
      "source": [
        "from google.colab import drive\n",
        "drive.mount('/content/gdrive', force_remount=True)"
      ],
      "execution_count": 3,
      "outputs": [
        {
          "output_type": "stream",
          "text": [
            "Mounted at /content/gdrive\n"
          ],
          "name": "stdout"
        }
      ]
    },
    {
      "cell_type": "code",
      "metadata": {
        "id": "JgFOBRr1pnQj"
      },
      "source": [
        "import os\n",
        "import time\n",
        "import datetime\n",
        "import numpy as np\n",
        "from sklearn.utils.class_weight import compute_class_weight\n",
        "from keras import optimizers \n",
        "from keras import regularizers\n",
        "from keras import initializers\n",
        "from keras.models import model_from_json\n",
        "from keras.models import Sequential\n",
        "from keras.layers import Dense, Dropout, Flatten, LeakyReLU, BatchNormalization, Activation, Softmax\n",
        "from keras.callbacks import TensorBoard, CSVLogger\n",
        "from keras.constraints import maxnorm\n",
        "from keras.utils import to_categorical\n",
        "from keras import backend as K\n",
        "import pandas as pd"
      ],
      "execution_count": 2,
      "outputs": []
    },
    {
      "cell_type": "markdown",
      "metadata": {
        "id": "C7_-OUFbNQuB"
      },
      "source": [
        "# Sort Data"
      ]
    },
    {
      "cell_type": "code",
      "metadata": {
        "id": "2zDBaH3BBdPu"
      },
      "source": [
        "!unzip -uq '/content/gdrive/MyDrive/msdchallenge/taste_profile_song_to_tracks.txt.zip' -d '/content/song_data'\n",
        "!unzip -uq '/content/gdrive/MyDrive/msdchallenge/kaggle_visible_evaluation_triplets.zip' -d '/content/eval_data'"
      ],
      "execution_count": 3,
      "outputs": []
    },
    {
      "cell_type": "code",
      "metadata": {
        "id": "7rrDLtFSsLGV"
      },
      "source": [
        "songmetadata = pd.read_csv(r'/content/gdrive/MyDrive/mil_song_subset/song_data.csv')\n",
        "othersongdata = pd.read_fwf(r'/content/gdrive/MyDrive/mil_song_subset/10000.txt')"
      ],
      "execution_count": 4,
      "outputs": []
    },
    {
      "cell_type": "code",
      "metadata": {
        "colab": {
          "base_uri": "https://localhost:8080/",
          "height": 197
        },
        "id": "PTUZ-zgAGPvU",
        "outputId": "c7d227e3-e645-4d9c-beca-ca49cbad883c"
      },
      "source": [
        "song_df= pd.DataFrame(songmetadata)\n",
        "song_df.head()"
      ],
      "execution_count": 5,
      "outputs": [
        {
          "output_type": "execute_result",
          "data": {
            "text/html": [
              "<div>\n",
              "<style scoped>\n",
              "    .dataframe tbody tr th:only-of-type {\n",
              "        vertical-align: middle;\n",
              "    }\n",
              "\n",
              "    .dataframe tbody tr th {\n",
              "        vertical-align: top;\n",
              "    }\n",
              "\n",
              "    .dataframe thead th {\n",
              "        text-align: right;\n",
              "    }\n",
              "</style>\n",
              "<table border=\"1\" class=\"dataframe\">\n",
              "  <thead>\n",
              "    <tr style=\"text-align: right;\">\n",
              "      <th></th>\n",
              "      <th>song_id</th>\n",
              "      <th>title</th>\n",
              "      <th>release</th>\n",
              "      <th>artist_name</th>\n",
              "      <th>year</th>\n",
              "    </tr>\n",
              "  </thead>\n",
              "  <tbody>\n",
              "    <tr>\n",
              "      <th>0</th>\n",
              "      <td>SOQMMHC12AB0180CB8</td>\n",
              "      <td>Silent Night</td>\n",
              "      <td>Monster Ballads X-Mas</td>\n",
              "      <td>Faster Pussy cat</td>\n",
              "      <td>2003</td>\n",
              "    </tr>\n",
              "    <tr>\n",
              "      <th>1</th>\n",
              "      <td>SOVFVAK12A8C1350D9</td>\n",
              "      <td>Tanssi vaan</td>\n",
              "      <td>Karkuteillä</td>\n",
              "      <td>Karkkiautomaatti</td>\n",
              "      <td>1995</td>\n",
              "    </tr>\n",
              "    <tr>\n",
              "      <th>2</th>\n",
              "      <td>SOGTUKN12AB017F4F1</td>\n",
              "      <td>No One Could Ever</td>\n",
              "      <td>Butter</td>\n",
              "      <td>Hudson Mohawke</td>\n",
              "      <td>2006</td>\n",
              "    </tr>\n",
              "    <tr>\n",
              "      <th>3</th>\n",
              "      <td>SOBNYVR12A8C13558C</td>\n",
              "      <td>Si Vos Querés</td>\n",
              "      <td>De Culo</td>\n",
              "      <td>Yerba Brava</td>\n",
              "      <td>2003</td>\n",
              "    </tr>\n",
              "    <tr>\n",
              "      <th>4</th>\n",
              "      <td>SOHSBXH12A8C13B0DF</td>\n",
              "      <td>Tangle Of Aspens</td>\n",
              "      <td>Rene Ablaze Presents Winter Sessions</td>\n",
              "      <td>Der Mystic</td>\n",
              "      <td>0</td>\n",
              "    </tr>\n",
              "  </tbody>\n",
              "</table>\n",
              "</div>"
            ],
            "text/plain": [
              "              song_id              title  ...       artist_name  year\n",
              "0  SOQMMHC12AB0180CB8       Silent Night  ...  Faster Pussy cat  2003\n",
              "1  SOVFVAK12A8C1350D9        Tanssi vaan  ...  Karkkiautomaatti  1995\n",
              "2  SOGTUKN12AB017F4F1  No One Could Ever  ...    Hudson Mohawke  2006\n",
              "3  SOBNYVR12A8C13558C      Si Vos Querés  ...       Yerba Brava  2003\n",
              "4  SOHSBXH12A8C13B0DF   Tangle Of Aspens  ...        Der Mystic     0\n",
              "\n",
              "[5 rows x 5 columns]"
            ]
          },
          "metadata": {
            "tags": []
          },
          "execution_count": 5
        }
      ]
    },
    {
      "cell_type": "code",
      "metadata": {
        "id": "UD_sKtFTGhCY"
      },
      "source": [
        "othersongdata.columns = ['user_id','song_id','listen_count']\n",
        "song_df = pd.merge(othersongdata, song_df.drop_duplicates(['song_id']), on=\"song_id\", how =\"left\")"
      ],
      "execution_count": 6,
      "outputs": []
    },
    {
      "cell_type": "code",
      "metadata": {
        "id": "MK1tFvBvL-SA"
      },
      "source": [
        "song_grouped = pd.DataFrame(song_df.groupby('song_id')['listen_count'].count())"
      ],
      "execution_count": 7,
      "outputs": []
    },
    {
      "cell_type": "code",
      "metadata": {
        "id": "wE0vfyHfHHA8"
      },
      "source": [
        "def popular_playlist():\n",
        "  song_grouped = song_df.groupby(['title']).agg({\"listen_count\":\"count\"}).sort_values(['listen_count'],ascending = False)\n",
        "  return song_grouped.head(10)"
      ],
      "execution_count": 8,
      "outputs": []
    },
    {
      "cell_type": "code",
      "metadata": {
        "id": "Fjtruazph2IL"
      },
      "source": [
        "songs_init1 = pd.read_csv(r'/content/gdrive/MyDrive/song_corr_fin.csv')\n",
        "#songs_init1 = pd.read_csv(r'/content/gdrive/MyDrive/mil_song_subset/song_corr.csv')\n",
        "#songs_init2 = pd.read_csv(r'/content/gdrive/MyDrive/mil_song_subset/song_corr2.csv')\n",
        "#songs_init1 = pd.concat([songs_init1, songs_init2])\n",
        "#songs_init1.to_csv('/content/gdrive/MyDrive/mil_song_subset/song_corr_fin.csv')"
      ],
      "execution_count": null,
      "outputs": []
    },
    {
      "cell_type": "code",
      "metadata": {
        "id": "qgtTlMgLyv9m"
      },
      "source": [
        "songs_init1.head()"
      ],
      "execution_count": null,
      "outputs": []
    },
    {
      "cell_type": "code",
      "metadata": {
        "id": "1EMOACdIxzI3"
      },
      "source": [
        "songs_init1.set_index('user_id')"
      ],
      "execution_count": null,
      "outputs": []
    },
    {
      "cell_type": "markdown",
      "metadata": {
        "id": "oMbYnRbZWe6A"
      },
      "source": [
        "# CRFS"
      ]
    },
    {
      "cell_type": "code",
      "metadata": {
        "id": "th8FuVyTWjjn"
      },
      "source": [
        "def song_based(song_id, no):\n",
        "  predictor_song_ratings = songs_init1[song_id]\n",
        "  similar_songs = songs_init1.corrwith(predictor_song_ratings)\n",
        "  corr_listened_song = pd.DataFrame(similar_songs, columns = ['pearsonR'])\n",
        "  corr_listened_song.dropna(inplace = True)\n",
        "  predictor_corr_summary = corr_listened_song.join(song_grouped['listen_count'])\n",
        "  final_recommended_songs = predictor_corr_summary[predictor_corr_summary.pearsonR < 0.9999]\n",
        "  #final_recommended_songs = final_recommended_songs.rename(columns={'index': 'song_id'})\n",
        "  final_recommended_songs.sort_values('pearsonR', ascending = False)\n",
        "  final_recommended_songs = final_recommended_songs.reset_index()\n",
        "  final_recommended_songs = final_recommended_songs.rename(columns={'index': 'song_id'})\n",
        "  song_df_one = song_df.drop(['listen_count'], axis=1)\n",
        "  similar_songs = pd.merge(final_recommended_songs, song_df_one.drop_duplicates([\"song_id\"]), on=\"song_id\", how=\"left\")\n",
        "  similar_songs = similar_songs.sort_values('pearsonR', ascending = False)\n",
        "  return similar_songs.head(no)"
      ],
      "execution_count": null,
      "outputs": []
    },
    {
      "cell_type": "code",
      "metadata": {
        "id": "PTNd8gRFX3tV"
      },
      "source": [
        "trial = song_based('SOFVZRE12A8C139783', 10)"
      ],
      "execution_count": null,
      "outputs": []
    },
    {
      "cell_type": "code",
      "metadata": {
        "colab": {
          "base_uri": "https://localhost:8080/",
          "height": 447
        },
        "id": "Ak8iGDxtYot3",
        "outputId": "9eb13d36-b68b-4675-a029-2ea80aa5c772"
      },
      "source": [
        "trial"
      ],
      "execution_count": null,
      "outputs": [
        {
          "output_type": "execute_result",
          "data": {
            "text/html": [
              "<div>\n",
              "<style scoped>\n",
              "    .dataframe tbody tr th:only-of-type {\n",
              "        vertical-align: middle;\n",
              "    }\n",
              "\n",
              "    .dataframe tbody tr th {\n",
              "        vertical-align: top;\n",
              "    }\n",
              "\n",
              "    .dataframe thead th {\n",
              "        text-align: right;\n",
              "    }\n",
              "</style>\n",
              "<table border=\"1\" class=\"dataframe\">\n",
              "  <thead>\n",
              "    <tr style=\"text-align: right;\">\n",
              "      <th></th>\n",
              "      <th>song_id</th>\n",
              "      <th>pearsonR</th>\n",
              "      <th>listen_count</th>\n",
              "      <th>user_id</th>\n",
              "      <th>title</th>\n",
              "      <th>release</th>\n",
              "      <th>artist_name</th>\n",
              "      <th>year</th>\n",
              "    </tr>\n",
              "  </thead>\n",
              "  <tbody>\n",
              "    <tr>\n",
              "      <th>4159</th>\n",
              "      <td>SOKMHKY12AF72AB079</td>\n",
              "      <td>0.274954</td>\n",
              "      <td>1375</td>\n",
              "      <td>a58de017cbeda1763ea002fe027ed41b4ed53109</td>\n",
              "      <td>How You Remind Me</td>\n",
              "      <td>FETENHITS - New Party Rock (set)</td>\n",
              "      <td>Nickelback</td>\n",
              "      <td>2000</td>\n",
              "    </tr>\n",
              "    <tr>\n",
              "      <th>7714</th>\n",
              "      <td>SOTRDVJ12A8C13975E</td>\n",
              "      <td>0.243712</td>\n",
              "      <td>370</td>\n",
              "      <td>1a849df9dabb15845eb932d46d81e2fd77176786</td>\n",
              "      <td>Savin' Me</td>\n",
              "      <td>NOW (That's What I Call Music) 22</td>\n",
              "      <td>Nickelback</td>\n",
              "      <td>2005</td>\n",
              "    </tr>\n",
              "    <tr>\n",
              "      <th>2499</th>\n",
              "      <td>SOGIDHJ12AB01800D1</td>\n",
              "      <td>0.205616</td>\n",
              "      <td>712</td>\n",
              "      <td>1a849df9dabb15845eb932d46d81e2fd77176786</td>\n",
              "      <td>Never Gonna Be Alone (Album Version)</td>\n",
              "      <td>Dark Horse</td>\n",
              "      <td>Nickelback</td>\n",
              "      <td>2008</td>\n",
              "    </tr>\n",
              "    <tr>\n",
              "      <th>8792</th>\n",
              "      <td>SOWQHUP12AB017C658</td>\n",
              "      <td>0.190493</td>\n",
              "      <td>87</td>\n",
              "      <td>6386d3ccb5d611599a9351bedb379dc4928922dc</td>\n",
              "      <td>Never Say Never</td>\n",
              "      <td>The Fray</td>\n",
              "      <td>The Fray</td>\n",
              "      <td>2009</td>\n",
              "    </tr>\n",
              "    <tr>\n",
              "      <th>9174</th>\n",
              "      <td>SOXQBCW12AB018704A</td>\n",
              "      <td>0.186946</td>\n",
              "      <td>67</td>\n",
              "      <td>c6c57f27fed3cf897daa4f830a0e2a17e65ba77d</td>\n",
              "      <td>Own Little World</td>\n",
              "      <td>ROUNDERS</td>\n",
              "      <td>Celldweller</td>\n",
              "      <td>2000</td>\n",
              "    </tr>\n",
              "    <tr>\n",
              "      <th>9673</th>\n",
              "      <td>SOZALSM12A8C13594C</td>\n",
              "      <td>0.186602</td>\n",
              "      <td>111</td>\n",
              "      <td>74d965061c841c6271fdc7d025055816f68bb257</td>\n",
              "      <td>Don't Stop Dancing</td>\n",
              "      <td>Greatest Hits</td>\n",
              "      <td>Creed</td>\n",
              "      <td>0</td>\n",
              "    </tr>\n",
              "    <tr>\n",
              "      <th>20</th>\n",
              "      <td>SOABHYV12A6D4F6D0F</td>\n",
              "      <td>0.183492</td>\n",
              "      <td>308</td>\n",
              "      <td>4208d4ac45e7caab7167a4ea6d34e759a6b9a1fc</td>\n",
              "      <td>Shadow Of The Day (Album Version)</td>\n",
              "      <td>Minutes To Midnight</td>\n",
              "      <td>Linkin Park</td>\n",
              "      <td>2007</td>\n",
              "    </tr>\n",
              "    <tr>\n",
              "      <th>2414</th>\n",
              "      <td>SOGDKEK12AF72A193B</td>\n",
              "      <td>0.182734</td>\n",
              "      <td>313</td>\n",
              "      <td>fc604c906ec7bb98c494ef7659b0d3dc75503812</td>\n",
              "      <td>Higher</td>\n",
              "      <td>Greatest Hits</td>\n",
              "      <td>Creed</td>\n",
              "      <td>0</td>\n",
              "    </tr>\n",
              "    <tr>\n",
              "      <th>397</th>\n",
              "      <td>SOBADLL12A6D4F8FEA</td>\n",
              "      <td>0.173155</td>\n",
              "      <td>171</td>\n",
              "      <td>4bd925e2dc2205d8b885bca02a88852fd9c49af5</td>\n",
              "      <td>If You're Not The One</td>\n",
              "      <td>Gotta Get Thru This</td>\n",
              "      <td>Daniel Bedingfield</td>\n",
              "      <td>2002</td>\n",
              "    </tr>\n",
              "    <tr>\n",
              "      <th>7301</th>\n",
              "      <td>SOSOAWT12A8AE48C81</td>\n",
              "      <td>0.161633</td>\n",
              "      <td>259</td>\n",
              "      <td>fe76c9d535c5834e4a9b91c13e29be6460cb79c4</td>\n",
              "      <td>Never Again</td>\n",
              "      <td>Silver Side Up</td>\n",
              "      <td>Nickelback</td>\n",
              "      <td>2001</td>\n",
              "    </tr>\n",
              "  </tbody>\n",
              "</table>\n",
              "</div>"
            ],
            "text/plain": [
              "                 song_id  pearsonR  ...         artist_name  year\n",
              "4159  SOKMHKY12AF72AB079  0.274954  ...          Nickelback  2000\n",
              "7714  SOTRDVJ12A8C13975E  0.243712  ...          Nickelback  2005\n",
              "2499  SOGIDHJ12AB01800D1  0.205616  ...          Nickelback  2008\n",
              "8792  SOWQHUP12AB017C658  0.190493  ...            The Fray  2009\n",
              "9174  SOXQBCW12AB018704A  0.186946  ...         Celldweller  2000\n",
              "9673  SOZALSM12A8C13594C  0.186602  ...               Creed     0\n",
              "20    SOABHYV12A6D4F6D0F  0.183492  ...         Linkin Park  2007\n",
              "2414  SOGDKEK12AF72A193B  0.182734  ...               Creed     0\n",
              "397   SOBADLL12A6D4F8FEA  0.173155  ...  Daniel Bedingfield  2002\n",
              "7301  SOSOAWT12A8AE48C81  0.161633  ...          Nickelback  2001\n",
              "\n",
              "[10 rows x 8 columns]"
            ]
          },
          "metadata": {
            "tags": []
          },
          "execution_count": 13
        }
      ]
    },
    {
      "cell_type": "code",
      "metadata": {
        "id": "PgO4ySGYhfQI"
      },
      "source": [
        "predictor_song_ratings = songs_init1['SOFVZRE12A8C139783']"
      ],
      "execution_count": null,
      "outputs": []
    },
    {
      "cell_type": "code",
      "metadata": {
        "colab": {
          "base_uri": "https://localhost:8080/"
        },
        "id": "jBVOdxa_S017",
        "outputId": "7d700307-b41f-4b77-bdd1-14ba5f90a006"
      },
      "source": [
        "predictor_song_ratings"
      ],
      "execution_count": null,
      "outputs": [
        {
          "output_type": "execute_result",
          "data": {
            "text/plain": [
              "0        0.0\n",
              "1        0.0\n",
              "2        0.0\n",
              "3        0.0\n",
              "4        0.0\n",
              "        ... \n",
              "37944    0.0\n",
              "37945    0.0\n",
              "37946    0.0\n",
              "37947    0.0\n",
              "37948    0.0\n",
              "Name: SOFVZRE12A8C139783, Length: 37949, dtype: float64"
            ]
          },
          "metadata": {
            "tags": []
          },
          "execution_count": 16
        }
      ]
    },
    {
      "cell_type": "code",
      "metadata": {
        "id": "sgiWY28tjeve",
        "colab": {
          "base_uri": "https://localhost:8080/"
        },
        "outputId": "d5bf5024-268a-4bec-dc3e-38f70b3a5e61"
      },
      "source": [
        "predictor_song_ratings[predictor_song_ratings>= 1]"
      ],
      "execution_count": null,
      "outputs": [
        {
          "output_type": "execute_result",
          "data": {
            "text/plain": [
              "146      1.0\n",
              "161      1.0\n",
              "225      1.0\n",
              "286      6.0\n",
              "288      1.0\n",
              "        ... \n",
              "37470    1.0\n",
              "37477    1.0\n",
              "37535    1.0\n",
              "37726    1.0\n",
              "37851    1.0\n",
              "Name: SOFVZRE12A8C139783, Length: 519, dtype: float64"
            ]
          },
          "metadata": {
            "tags": []
          },
          "execution_count": 17
        }
      ]
    },
    {
      "cell_type": "code",
      "metadata": {
        "id": "PrBKUYdcKpwI"
      },
      "source": [
        "similar_songs = songs_init1.corrwith(predictor_song_ratings)"
      ],
      "execution_count": null,
      "outputs": []
    },
    {
      "cell_type": "code",
      "metadata": {
        "colab": {
          "base_uri": "https://localhost:8080/"
        },
        "id": "7WNA3hh4Pia5",
        "outputId": "ac1ca86f-8828-4a09-c602-795b73c831dd"
      },
      "source": [
        "similar_songs"
      ],
      "execution_count": null,
      "outputs": [
        {
          "output_type": "execute_result",
          "data": {
            "text/plain": [
              "SOAAAGQ12A8C1420C8    0.003195\n",
              "SOAACPJ12A81C21360   -0.001724\n",
              "SOAACSG12AB018DC80   -0.000898\n",
              "SOAAEJI12AB0188AB5   -0.000252\n",
              "SOAAFAC12A67ADF7EB    0.000331\n",
              "                        ...   \n",
              "SOZZTNF12A8C139916   -0.002836\n",
              "SOZZVWB12AB0189C30   -0.001614\n",
              "SOZZWZV12A67AE140F   -0.000948\n",
              "SOZZYAO12A6701FF36   -0.000133\n",
              "SOZZZPV12A8C1444B5   -0.001724\n",
              "Length: 10000, dtype: float64"
            ]
          },
          "metadata": {
            "tags": []
          },
          "execution_count": 19
        }
      ]
    },
    {
      "cell_type": "code",
      "metadata": {
        "id": "4kk2XjV-LVvq"
      },
      "source": [
        "corr_listened_song = pd.DataFrame(similar_songs, columns = ['pearsonR'])"
      ],
      "execution_count": null,
      "outputs": []
    },
    {
      "cell_type": "code",
      "metadata": {
        "id": "fTgeJMS1Lc9v"
      },
      "source": [
        "corr_listened_song.dropna(inplace = True)"
      ],
      "execution_count": null,
      "outputs": []
    },
    {
      "cell_type": "code",
      "metadata": {
        "colab": {
          "base_uri": "https://localhost:8080/",
          "height": 197
        },
        "id": "Kei7oPm9QaO5",
        "outputId": "69d5b950-0165-4fe0-b2a8-0c0afc693c39"
      },
      "source": [
        "corr_listened_song.head()"
      ],
      "execution_count": null,
      "outputs": [
        {
          "output_type": "execute_result",
          "data": {
            "text/html": [
              "<div>\n",
              "<style scoped>\n",
              "    .dataframe tbody tr th:only-of-type {\n",
              "        vertical-align: middle;\n",
              "    }\n",
              "\n",
              "    .dataframe tbody tr th {\n",
              "        vertical-align: top;\n",
              "    }\n",
              "\n",
              "    .dataframe thead th {\n",
              "        text-align: right;\n",
              "    }\n",
              "</style>\n",
              "<table border=\"1\" class=\"dataframe\">\n",
              "  <thead>\n",
              "    <tr style=\"text-align: right;\">\n",
              "      <th></th>\n",
              "      <th>pearsonR</th>\n",
              "    </tr>\n",
              "  </thead>\n",
              "  <tbody>\n",
              "    <tr>\n",
              "      <th>SOAAAGQ12A8C1420C8</th>\n",
              "      <td>0.003195</td>\n",
              "    </tr>\n",
              "    <tr>\n",
              "      <th>SOAACPJ12A81C21360</th>\n",
              "      <td>-0.001724</td>\n",
              "    </tr>\n",
              "    <tr>\n",
              "      <th>SOAACSG12AB018DC80</th>\n",
              "      <td>-0.000898</td>\n",
              "    </tr>\n",
              "    <tr>\n",
              "      <th>SOAAEJI12AB0188AB5</th>\n",
              "      <td>-0.000252</td>\n",
              "    </tr>\n",
              "    <tr>\n",
              "      <th>SOAAFAC12A67ADF7EB</th>\n",
              "      <td>0.000331</td>\n",
              "    </tr>\n",
              "  </tbody>\n",
              "</table>\n",
              "</div>"
            ],
            "text/plain": [
              "                    pearsonR\n",
              "SOAAAGQ12A8C1420C8  0.003195\n",
              "SOAACPJ12A81C21360 -0.001724\n",
              "SOAACSG12AB018DC80 -0.000898\n",
              "SOAAEJI12AB0188AB5 -0.000252\n",
              "SOAAFAC12A67ADF7EB  0.000331"
            ]
          },
          "metadata": {
            "tags": []
          },
          "execution_count": 22
        }
      ]
    },
    {
      "cell_type": "code",
      "metadata": {
        "id": "G6hZVLuALfrg"
      },
      "source": [
        "predictor_corr_summary = corr_listened_song.join(song_grouped['listen_count'])"
      ],
      "execution_count": null,
      "outputs": []
    },
    {
      "cell_type": "code",
      "metadata": {
        "id": "a_PBSpfAMRJz"
      },
      "source": [
        "predictor_corr_summary = predictor_corr_summary.sort_values('pearsonR', ascending = False)"
      ],
      "execution_count": null,
      "outputs": []
    },
    {
      "cell_type": "code",
      "metadata": {
        "id": "0botwlhUMU8A"
      },
      "source": [
        "final_recommended_songs = predictor_corr_summary[predictor_corr_summary.pearsonR < 0.9999]"
      ],
      "execution_count": null,
      "outputs": []
    },
    {
      "cell_type": "code",
      "metadata": {
        "colab": {
          "base_uri": "https://localhost:8080/",
          "height": 406
        },
        "id": "eqxz-gLoMZKW",
        "outputId": "4dac8b12-8caa-4824-9d55-6c0e3947c771"
      },
      "source": [
        "final_recommended_songs.sort_values('pearsonR', ascending = False)"
      ],
      "execution_count": null,
      "outputs": [
        {
          "output_type": "execute_result",
          "data": {
            "text/html": [
              "<div>\n",
              "<style scoped>\n",
              "    .dataframe tbody tr th:only-of-type {\n",
              "        vertical-align: middle;\n",
              "    }\n",
              "\n",
              "    .dataframe tbody tr th {\n",
              "        vertical-align: top;\n",
              "    }\n",
              "\n",
              "    .dataframe thead th {\n",
              "        text-align: right;\n",
              "    }\n",
              "</style>\n",
              "<table border=\"1\" class=\"dataframe\">\n",
              "  <thead>\n",
              "    <tr style=\"text-align: right;\">\n",
              "      <th></th>\n",
              "      <th>pearsonR</th>\n",
              "      <th>listen_count</th>\n",
              "    </tr>\n",
              "  </thead>\n",
              "  <tbody>\n",
              "    <tr>\n",
              "      <th>SOKMHKY12AF72AB079</th>\n",
              "      <td>0.274954</td>\n",
              "      <td>1375</td>\n",
              "    </tr>\n",
              "    <tr>\n",
              "      <th>SOTRDVJ12A8C13975E</th>\n",
              "      <td>0.243712</td>\n",
              "      <td>370</td>\n",
              "    </tr>\n",
              "    <tr>\n",
              "      <th>SOGIDHJ12AB01800D1</th>\n",
              "      <td>0.205616</td>\n",
              "      <td>712</td>\n",
              "    </tr>\n",
              "    <tr>\n",
              "      <th>SOWQHUP12AB017C658</th>\n",
              "      <td>0.190493</td>\n",
              "      <td>87</td>\n",
              "    </tr>\n",
              "    <tr>\n",
              "      <th>SOXQBCW12AB018704A</th>\n",
              "      <td>0.186946</td>\n",
              "      <td>67</td>\n",
              "    </tr>\n",
              "    <tr>\n",
              "      <th>...</th>\n",
              "      <td>...</td>\n",
              "      <td>...</td>\n",
              "    </tr>\n",
              "    <tr>\n",
              "      <th>SOFWMNN12A8C13C3F2</th>\n",
              "      <td>-0.003622</td>\n",
              "      <td>406</td>\n",
              "    </tr>\n",
              "    <tr>\n",
              "      <th>SOREBOB12A6D4F7986</th>\n",
              "      <td>-0.003658</td>\n",
              "      <td>484</td>\n",
              "    </tr>\n",
              "    <tr>\n",
              "      <th>SODEYDM12A58A77072</th>\n",
              "      <td>-0.003664</td>\n",
              "      <td>691</td>\n",
              "    </tr>\n",
              "    <tr>\n",
              "      <th>SONAZWN12A8151C957</th>\n",
              "      <td>-0.003720</td>\n",
              "      <td>468</td>\n",
              "    </tr>\n",
              "    <tr>\n",
              "      <th>SOODSPH12AB01819C3</th>\n",
              "      <td>-0.003983</td>\n",
              "      <td>618</td>\n",
              "    </tr>\n",
              "  </tbody>\n",
              "</table>\n",
              "<p>9999 rows × 2 columns</p>\n",
              "</div>"
            ],
            "text/plain": [
              "                    pearsonR  listen_count\n",
              "SOKMHKY12AF72AB079  0.274954          1375\n",
              "SOTRDVJ12A8C13975E  0.243712           370\n",
              "SOGIDHJ12AB01800D1  0.205616           712\n",
              "SOWQHUP12AB017C658  0.190493            87\n",
              "SOXQBCW12AB018704A  0.186946            67\n",
              "...                      ...           ...\n",
              "SOFWMNN12A8C13C3F2 -0.003622           406\n",
              "SOREBOB12A6D4F7986 -0.003658           484\n",
              "SODEYDM12A58A77072 -0.003664           691\n",
              "SONAZWN12A8151C957 -0.003720           468\n",
              "SOODSPH12AB01819C3 -0.003983           618\n",
              "\n",
              "[9999 rows x 2 columns]"
            ]
          },
          "metadata": {
            "tags": []
          },
          "execution_count": 26
        }
      ]
    },
    {
      "cell_type": "code",
      "metadata": {
        "id": "tGg1z2LnMc2Z"
      },
      "source": [
        "final_recommended_songs = final_recommended_songs.reset_index()"
      ],
      "execution_count": null,
      "outputs": []
    },
    {
      "cell_type": "code",
      "metadata": {
        "id": "tsnOdQ1WNznt"
      },
      "source": [
        "final_recommended_songs = final_recommended_songs.rename(columns={'index': 'song_id'})"
      ],
      "execution_count": null,
      "outputs": []
    },
    {
      "cell_type": "code",
      "metadata": {
        "id": "VN_BN8k6MieN"
      },
      "source": [
        "song_df_one = song_df.drop(['listen_count'], axis=1)"
      ],
      "execution_count": null,
      "outputs": []
    },
    {
      "cell_type": "code",
      "metadata": {
        "colab": {
          "base_uri": "https://localhost:8080/",
          "height": 197
        },
        "id": "NG9xSwhrM03H",
        "outputId": "4454030b-d16d-4674-ca77-420f00c9e32c"
      },
      "source": [
        "song_df_one.head()"
      ],
      "execution_count": null,
      "outputs": [
        {
          "output_type": "execute_result",
          "data": {
            "text/html": [
              "<div>\n",
              "<style scoped>\n",
              "    .dataframe tbody tr th:only-of-type {\n",
              "        vertical-align: middle;\n",
              "    }\n",
              "\n",
              "    .dataframe tbody tr th {\n",
              "        vertical-align: top;\n",
              "    }\n",
              "\n",
              "    .dataframe thead th {\n",
              "        text-align: right;\n",
              "    }\n",
              "</style>\n",
              "<table border=\"1\" class=\"dataframe\">\n",
              "  <thead>\n",
              "    <tr style=\"text-align: right;\">\n",
              "      <th></th>\n",
              "      <th>user_id</th>\n",
              "      <th>song_id</th>\n",
              "      <th>title</th>\n",
              "      <th>release</th>\n",
              "      <th>artist_name</th>\n",
              "      <th>year</th>\n",
              "    </tr>\n",
              "  </thead>\n",
              "  <tbody>\n",
              "    <tr>\n",
              "      <th>0</th>\n",
              "      <td>b80344d063b5ccb3212f76538f3d9e43d87dca9e</td>\n",
              "      <td>SOBBMDR12A8C13253B</td>\n",
              "      <td>Entre Dos Aguas</td>\n",
              "      <td>Flamenco Para Niños</td>\n",
              "      <td>Paco De Lucia</td>\n",
              "      <td>1976</td>\n",
              "    </tr>\n",
              "    <tr>\n",
              "      <th>1</th>\n",
              "      <td>b80344d063b5ccb3212f76538f3d9e43d87dca9e</td>\n",
              "      <td>SOBXHDL12A81C204C0</td>\n",
              "      <td>Stronger</td>\n",
              "      <td>Graduation</td>\n",
              "      <td>Kanye West</td>\n",
              "      <td>2007</td>\n",
              "    </tr>\n",
              "    <tr>\n",
              "      <th>2</th>\n",
              "      <td>b80344d063b5ccb3212f76538f3d9e43d87dca9e</td>\n",
              "      <td>SOBYHAJ12A6701BF1D</td>\n",
              "      <td>Constellations</td>\n",
              "      <td>In Between Dreams</td>\n",
              "      <td>Jack Johnson</td>\n",
              "      <td>2005</td>\n",
              "    </tr>\n",
              "    <tr>\n",
              "      <th>3</th>\n",
              "      <td>b80344d063b5ccb3212f76538f3d9e43d87dca9e</td>\n",
              "      <td>SODACBL12A8C13C273</td>\n",
              "      <td>Learn To Fly</td>\n",
              "      <td>There Is Nothing Left To Lose</td>\n",
              "      <td>Foo Fighters</td>\n",
              "      <td>1999</td>\n",
              "    </tr>\n",
              "    <tr>\n",
              "      <th>4</th>\n",
              "      <td>b80344d063b5ccb3212f76538f3d9e43d87dca9e</td>\n",
              "      <td>SODDNQT12A6D4F5F7E</td>\n",
              "      <td>Apuesta Por El Rock 'N' Roll</td>\n",
              "      <td>Antología Audiovisual</td>\n",
              "      <td>Héroes del Silencio</td>\n",
              "      <td>2007</td>\n",
              "    </tr>\n",
              "  </tbody>\n",
              "</table>\n",
              "</div>"
            ],
            "text/plain": [
              "                                    user_id  ...  year\n",
              "0  b80344d063b5ccb3212f76538f3d9e43d87dca9e  ...  1976\n",
              "1  b80344d063b5ccb3212f76538f3d9e43d87dca9e  ...  2007\n",
              "2  b80344d063b5ccb3212f76538f3d9e43d87dca9e  ...  2005\n",
              "3  b80344d063b5ccb3212f76538f3d9e43d87dca9e  ...  1999\n",
              "4  b80344d063b5ccb3212f76538f3d9e43d87dca9e  ...  2007\n",
              "\n",
              "[5 rows x 6 columns]"
            ]
          },
          "metadata": {
            "tags": []
          },
          "execution_count": 30
        }
      ]
    },
    {
      "cell_type": "code",
      "metadata": {
        "colab": {
          "base_uri": "https://localhost:8080/",
          "height": 197
        },
        "id": "2KgQoRGHNCGw",
        "outputId": "a9e4b87f-b915-46ca-936c-d50225d25c60"
      },
      "source": [
        "final_recommended_songs.head()"
      ],
      "execution_count": null,
      "outputs": [
        {
          "output_type": "execute_result",
          "data": {
            "text/html": [
              "<div>\n",
              "<style scoped>\n",
              "    .dataframe tbody tr th:only-of-type {\n",
              "        vertical-align: middle;\n",
              "    }\n",
              "\n",
              "    .dataframe tbody tr th {\n",
              "        vertical-align: top;\n",
              "    }\n",
              "\n",
              "    .dataframe thead th {\n",
              "        text-align: right;\n",
              "    }\n",
              "</style>\n",
              "<table border=\"1\" class=\"dataframe\">\n",
              "  <thead>\n",
              "    <tr style=\"text-align: right;\">\n",
              "      <th></th>\n",
              "      <th>song_id</th>\n",
              "      <th>pearsonR</th>\n",
              "      <th>listen_count</th>\n",
              "    </tr>\n",
              "  </thead>\n",
              "  <tbody>\n",
              "    <tr>\n",
              "      <th>0</th>\n",
              "      <td>SOKMHKY12AF72AB079</td>\n",
              "      <td>0.274954</td>\n",
              "      <td>1375</td>\n",
              "    </tr>\n",
              "    <tr>\n",
              "      <th>1</th>\n",
              "      <td>SOTRDVJ12A8C13975E</td>\n",
              "      <td>0.243712</td>\n",
              "      <td>370</td>\n",
              "    </tr>\n",
              "    <tr>\n",
              "      <th>2</th>\n",
              "      <td>SOGIDHJ12AB01800D1</td>\n",
              "      <td>0.205616</td>\n",
              "      <td>712</td>\n",
              "    </tr>\n",
              "    <tr>\n",
              "      <th>3</th>\n",
              "      <td>SOWQHUP12AB017C658</td>\n",
              "      <td>0.190493</td>\n",
              "      <td>87</td>\n",
              "    </tr>\n",
              "    <tr>\n",
              "      <th>4</th>\n",
              "      <td>SOXQBCW12AB018704A</td>\n",
              "      <td>0.186946</td>\n",
              "      <td>67</td>\n",
              "    </tr>\n",
              "  </tbody>\n",
              "</table>\n",
              "</div>"
            ],
            "text/plain": [
              "              song_id  pearsonR  listen_count\n",
              "0  SOKMHKY12AF72AB079  0.274954          1375\n",
              "1  SOTRDVJ12A8C13975E  0.243712           370\n",
              "2  SOGIDHJ12AB01800D1  0.205616           712\n",
              "3  SOWQHUP12AB017C658  0.190493            87\n",
              "4  SOXQBCW12AB018704A  0.186946            67"
            ]
          },
          "metadata": {
            "tags": []
          },
          "execution_count": 31
        }
      ]
    },
    {
      "cell_type": "code",
      "metadata": {
        "id": "04b1KbnAMnH-"
      },
      "source": [
        "similar_songs = pd.merge(final_recommended_songs, song_df_one.drop_duplicates([\"song_id\"]), on=\"song_id\", how=\"left\")\n"
      ],
      "execution_count": null,
      "outputs": []
    },
    {
      "cell_type": "code",
      "metadata": {
        "id": "UORp07f0Mtgf"
      },
      "source": [
        "similar_songs = similar_songs.sort_values('pearsonR', ascending = False)"
      ],
      "execution_count": null,
      "outputs": []
    },
    {
      "cell_type": "code",
      "metadata": {
        "colab": {
          "base_uri": "https://localhost:8080/",
          "height": 247
        },
        "id": "Kw5qyPVnOzj4",
        "outputId": "a29fabb8-d506-4177-bda1-7b48ea65e5c9"
      },
      "source": [
        "similar_songs.head()"
      ],
      "execution_count": null,
      "outputs": [
        {
          "output_type": "execute_result",
          "data": {
            "text/html": [
              "<div>\n",
              "<style scoped>\n",
              "    .dataframe tbody tr th:only-of-type {\n",
              "        vertical-align: middle;\n",
              "    }\n",
              "\n",
              "    .dataframe tbody tr th {\n",
              "        vertical-align: top;\n",
              "    }\n",
              "\n",
              "    .dataframe thead th {\n",
              "        text-align: right;\n",
              "    }\n",
              "</style>\n",
              "<table border=\"1\" class=\"dataframe\">\n",
              "  <thead>\n",
              "    <tr style=\"text-align: right;\">\n",
              "      <th></th>\n",
              "      <th>song_id</th>\n",
              "      <th>pearsonR</th>\n",
              "      <th>listen_count</th>\n",
              "      <th>user_id</th>\n",
              "      <th>title</th>\n",
              "      <th>release</th>\n",
              "      <th>artist_name</th>\n",
              "      <th>year</th>\n",
              "    </tr>\n",
              "  </thead>\n",
              "  <tbody>\n",
              "    <tr>\n",
              "      <th>0</th>\n",
              "      <td>SOKMHKY12AF72AB079</td>\n",
              "      <td>0.274954</td>\n",
              "      <td>1375</td>\n",
              "      <td>a58de017cbeda1763ea002fe027ed41b4ed53109</td>\n",
              "      <td>How You Remind Me</td>\n",
              "      <td>FETENHITS - New Party Rock (set)</td>\n",
              "      <td>Nickelback</td>\n",
              "      <td>2000</td>\n",
              "    </tr>\n",
              "    <tr>\n",
              "      <th>1</th>\n",
              "      <td>SOTRDVJ12A8C13975E</td>\n",
              "      <td>0.243712</td>\n",
              "      <td>370</td>\n",
              "      <td>1a849df9dabb15845eb932d46d81e2fd77176786</td>\n",
              "      <td>Savin' Me</td>\n",
              "      <td>NOW (That's What I Call Music) 22</td>\n",
              "      <td>Nickelback</td>\n",
              "      <td>2005</td>\n",
              "    </tr>\n",
              "    <tr>\n",
              "      <th>2</th>\n",
              "      <td>SOGIDHJ12AB01800D1</td>\n",
              "      <td>0.205616</td>\n",
              "      <td>712</td>\n",
              "      <td>1a849df9dabb15845eb932d46d81e2fd77176786</td>\n",
              "      <td>Never Gonna Be Alone (Album Version)</td>\n",
              "      <td>Dark Horse</td>\n",
              "      <td>Nickelback</td>\n",
              "      <td>2008</td>\n",
              "    </tr>\n",
              "    <tr>\n",
              "      <th>3</th>\n",
              "      <td>SOWQHUP12AB017C658</td>\n",
              "      <td>0.190493</td>\n",
              "      <td>87</td>\n",
              "      <td>6386d3ccb5d611599a9351bedb379dc4928922dc</td>\n",
              "      <td>Never Say Never</td>\n",
              "      <td>The Fray</td>\n",
              "      <td>The Fray</td>\n",
              "      <td>2009</td>\n",
              "    </tr>\n",
              "    <tr>\n",
              "      <th>4</th>\n",
              "      <td>SOXQBCW12AB018704A</td>\n",
              "      <td>0.186946</td>\n",
              "      <td>67</td>\n",
              "      <td>c6c57f27fed3cf897daa4f830a0e2a17e65ba77d</td>\n",
              "      <td>Own Little World</td>\n",
              "      <td>ROUNDERS</td>\n",
              "      <td>Celldweller</td>\n",
              "      <td>2000</td>\n",
              "    </tr>\n",
              "  </tbody>\n",
              "</table>\n",
              "</div>"
            ],
            "text/plain": [
              "              song_id  pearsonR  ...  artist_name  year\n",
              "0  SOKMHKY12AF72AB079  0.274954  ...   Nickelback  2000\n",
              "1  SOTRDVJ12A8C13975E  0.243712  ...   Nickelback  2005\n",
              "2  SOGIDHJ12AB01800D1  0.205616  ...   Nickelback  2008\n",
              "3  SOWQHUP12AB017C658  0.190493  ...     The Fray  2009\n",
              "4  SOXQBCW12AB018704A  0.186946  ...  Celldweller  2000\n",
              "\n",
              "[5 rows x 8 columns]"
            ]
          },
          "metadata": {
            "tags": []
          },
          "execution_count": 34
        }
      ]
    }
  ]
}